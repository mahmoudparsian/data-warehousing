{
 "cells": [
  {
   "cell_type": "markdown",
   "id": "b3dba7ec",
   "metadata": {},
   "source": [
    "# 📝 Basic Data Exploration Report\n",
    "\n",
    "This notebook contains a simple exploratory data analysis on a sample dataset."
   ]
  },
  {
   "cell_type": "markdown",
   "id": "25cfd5c7",
   "metadata": {},
   "source": [
    "## Table of Contents\n",
    "1. Introduction\n",
    "2. Loading the Data\n",
    "3. Data Overview\n",
    "4. Missing Values\n",
    "5. Descriptive Statistics\n",
    "6. Univariate Analysis\n",
    "7. Bivariate Analysis\n",
    "8. Observations & Insights"
   ]
  },
  {
   "cell_type": "markdown",
   "id": "c9c9c19a",
   "metadata": {},
   "source": [
    "## 1. Loading the Data"
   ]
  },
  {
   "cell_type": "code",
   "execution_count": null,
   "id": "ef7dc0da",
   "metadata": {},
   "outputs": [],
   "source": [
    "import pandas as pd\n",
    "import seaborn as sns\n",
    "import matplotlib.pyplot as plt\n",
    "\n",
    "# Sample data\n",
    "data = {\n",
    "    'age': [19, 18, 28, 45, 34],\n",
    "    'gender': ['female', 'male', 'male', 'female', 'male'],\n",
    "    'bmi': [27.9, 33.77, 33.0, 28.5, 31.0],\n",
    "    'children': [0, 1, 3, 2, 1],\n",
    "    'smoker': ['yes', 'no', 'no', 'yes', 'no'],\n",
    "    'region': ['west', 'south-east', 'south-west', 'north', 'east'],\n",
    "    'charges': [16884.92, 1725.55, 4449.46, 21984.5, 12365.0]\n",
    "}\n",
    "\n",
    "df = pd.DataFrame(data)"
   ]
  },
  {
   "cell_type": "markdown",
   "id": "9af71865",
   "metadata": {},
   "source": [
    "## 2. Data Overview"
   ]
  },
  {
   "cell_type": "code",
   "execution_count": null,
   "id": "ec42747d",
   "metadata": {},
   "outputs": [],
   "source": [
    "print('Shape:', df.shape)\n",
    "print('\\nData types:\\n', df.dtypes)\n",
    "df.head()"
   ]
  },
  {
   "cell_type": "markdown",
   "id": "2821fe1b",
   "metadata": {},
   "source": [
    "## 3. Missing Values"
   ]
  },
  {
   "cell_type": "code",
   "execution_count": null,
   "id": "d7a1ddc2",
   "metadata": {},
   "outputs": [],
   "source": [
    "df.isnull().sum()"
   ]
  },
  {
   "cell_type": "markdown",
   "id": "1f36d565",
   "metadata": {},
   "source": [
    "## 4. Descriptive Statistics"
   ]
  },
  {
   "cell_type": "code",
   "execution_count": null,
   "id": "6f32c68c",
   "metadata": {},
   "outputs": [],
   "source": [
    "df.describe()"
   ]
  },
  {
   "cell_type": "markdown",
   "id": "d52e6d82",
   "metadata": {},
   "source": [
    "## 5. Univariate Analysis"
   ]
  },
  {
   "cell_type": "code",
   "execution_count": null,
   "id": "7957d7b9",
   "metadata": {},
   "outputs": [],
   "source": [
    "sns.histplot(df['charges'], kde=True)\n",
    "plt.title('Distribution of Charges')\n",
    "plt.show()"
   ]
  },
  {
   "cell_type": "code",
   "execution_count": null,
   "id": "fe1b652e",
   "metadata": {},
   "outputs": [],
   "source": [
    "sns.countplot(x='smoker', data=df)\n",
    "plt.title('Smoker Count')\n",
    "plt.show()"
   ]
  },
  {
   "cell_type": "markdown",
   "id": "41801af6",
   "metadata": {},
   "source": [
    "## 6. Bivariate Analysis"
   ]
  },
  {
   "cell_type": "code",
   "execution_count": null,
   "id": "5d33e34e",
   "metadata": {},
   "outputs": [],
   "source": [
    "sns.scatterplot(x='age', y='charges', hue='smoker', data=df)\n",
    "plt.title('Age vs Charges by Smoker')\n",
    "plt.show()"
   ]
  },
  {
   "cell_type": "code",
   "execution_count": null,
   "id": "bf4d7aba",
   "metadata": {},
   "outputs": [],
   "source": [
    "sns.boxplot(x='smoker', y='charges', data=df)\n",
    "plt.title('Charges by Smoking Status')\n",
    "plt.show()"
   ]
  },
  {
   "cell_type": "markdown",
   "id": "9f36680e",
   "metadata": {},
   "source": [
    "## 7. Observations & Insights\n",
    "- Smokers tend to have higher charges.\n",
    "- Age and number of children may impact charges.\n",
    "- No missing values detected.\n",
    "- BMI does not show a strong trend with charges in this small sample."
   ]
  }
 ],
 "metadata": {},
 "nbformat": 4,
 "nbformat_minor": 5
}
